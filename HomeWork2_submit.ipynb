{
 "cells": [
  {
   "cell_type": "code",
   "execution_count": 13,
   "metadata": {
    "collapsed": true,
    "pycharm": {
     "name": "#%%\n"
    }
   },
   "outputs": [],
   "source": [
    "from selenium import webdriver\n",
    "from selenium.webdriver.common.by import By\n",
    "from selenium.webdriver.common.keys import Keys\n",
    "from selenium.webdriver import ChromeOptions\n",
    "import time\n",
    "import pandas as pd\n",
    "from bs4 import BeautifulSoup"
   ]
  },
  {
   "cell_type": "code",
   "execution_count": 14,
   "outputs": [
    {
     "name": "stderr",
     "output_type": "stream",
     "text": [
      "C:\\Users\\OXL\\AppData\\Local\\Temp/ipykernel_2308/1285995418.py:7: DeprecationWarning: executable_path has been deprecated, please pass in a Service object\n",
      "  driver = webdriver.Chrome(r'chromedriver/chromedriver.exe', options=option)\n"
     ]
    }
   ],
   "source": [
    "# 防检测\n",
    "option = ChromeOptions()\n",
    "option.add_experimental_option('excludeSwitches', ['enable-automation'])\n",
    "option.add_experimental_option(\"detach\", True)\n",
    "script = 'Object.defineProperty(navigator,\"webdriver\",{get:() => false,});'\n",
    "\n",
    "driver = webdriver.Chrome(r'chromedriver/chromedriver.exe', options=option)\n",
    "driver.get('https://www.amazon.cn/Kindle')"
   ],
   "metadata": {
    "collapsed": false,
    "pycharm": {
     "name": "#%%\n"
    }
   }
  },
  {
   "cell_type": "code",
   "execution_count": 15,
   "outputs": [],
   "source": [
    "elem = driver.find_element(by=By.ID, value='twotabsearchtextbox')\n",
    "key_word = \"自卑与超越\"\n",
    "for i in key_word:\n",
    "    elem.send_keys(i)\n",
    "    time.sleep(0.5)\n",
    "elem.send_keys(Keys.RETURN)"
   ],
   "metadata": {
    "collapsed": false,
    "pycharm": {
     "name": "#%%\n"
    }
   }
  },
  {
   "cell_type": "code",
   "execution_count": 16,
   "outputs": [],
   "source": [
    "soup = BeautifulSoup(driver.page_source, 'lxml')"
   ],
   "metadata": {
    "collapsed": false,
    "pycharm": {
     "name": "#%%\n"
    }
   }
  },
  {
   "cell_type": "code",
   "execution_count": 17,
   "outputs": [],
   "source": [
    "all = soup.find_all(name='div', attrs={\"class\" :\"a-section a-spacing-small s-padding-left-small s-padding-right-small\"})\n",
    "\n",
    "book_name = [i.text for i in soup.find_all(name='span', attrs={\"class\" :\"a-size-base-plus\"})]\n",
    "\n",
    "author = [i.div.div.text for i in all]\n",
    "\n",
    "rank = []\n",
    "for i in all:\n",
    "    temp = i.find_all(name='div', attrs={'class': \"a-row a-size-small\"})\n",
    "    if len(temp)==0:\n",
    "        rank.append('暂无评分')\n",
    "    else:\n",
    "        rank.append(temp[0].span.text.split('，')[0])\n",
    "\n",
    "price = []\n",
    "for i in all:\n",
    "    temp = i.find_all(name='span', attrs={'class': \"a-offscreen\"})\n",
    "    # print(temp[0].text)\n",
    "    price.append(temp[0].text)\n"
   ],
   "metadata": {
    "collapsed": false,
    "pycharm": {
     "name": "#%%\n"
    }
   }
  },
  {
   "cell_type": "code",
   "execution_count": 18,
   "outputs": [
    {
     "data": {
      "text/plain": "                                                   书名  \\\n0           自卑与超越(完整全译本未删节，读个体心理学经典，你比你想象的更优秀！)(果麦经典)   \n1   自卑与超越（完整全译本）: 翻译家曹晚红原版直译,抖音100万点赞 (经典成功学套装：厚黑学...   \n2   作家榜经典：自卑与超越（樊登博士力荐！超越自卑就能内心强大！心理学封神之作，2020全新未删...   \n3                                       自卑与超越(经典完整译本)   \n4   自卑与超越：你要清楚自己应该怎样过好这一生【个体心理学经典译本。《梦的解析》作者弗洛伊德昔日...   \n5      自卑与超越（西方心理学大师经典译丛）（个体心理学创始人带你找寻生命的意义，告诉你天才的真谛）   \n6                                               自卑与超越   \n7   自卑与超越【慢读系列，英文直译完整版！相同译本平装版年销量破100000册，精装套封修订版全...   \n8   乌合之众: 社会心理学领域扛鼎之作，一部讲透政治、经济、管理的心理学巨著，入选改变世界的20...   \n9                                自卑与超越【牛津大学出版社未删减典藏版】   \n10                            自卑与超越+乌合之众+我们内心的冲突（全三册）   \n11                                              自卑与超越   \n12  儿童教育心理学（阿德勒写给孩子的“自卑与超越”，全球公认的正向教养法经典，50万册纪念版，全...   \n13            乌合之众+自卑与超越+梦的解析+墨菲定律（全4册,你一定要读的四大心理学巨著）   \n14  超越自卑【豆瓣评分8.3分！TED播放量破10000000演讲者布琳·布朗现象级著作！知名脱...   \n15  自卑与超越【个体心理学之父阿德勒代表作完整全译本，畅销全球80余年，入选20世纪改变美国和世...   \n16               心理学经典必读系列：乌合之众+梦的解析+自卑与超越+性学三论+人性的弱点   \n17  性格心理学（只有认识自己，才能超越自己，一本书读懂阿德勒，进阶版《自卑与超越》！大量心理治疗...   \n18             自卑与超越2（无删减完整译本）阿德勒《自卑与超越》姊妹篇，自我成长实操升级版   \n19  乌合之众 自卑与超越 （套装共2册）: 了解个体心理与群体心理的大师级作品，讲透政治、经济与...   \n20               自卑与超越（著名心理学家马斯洛、墨菲、舒尔茨等诚挚推荐,豆瓣评分7.3）   \n21  沐浴之歌：从今天起，做个快乐的人（献给那些与自我抗争、在逆境中挺进的人，勇敢越过生命中的艰难...   \n22  经典名著读本 (套装全8册)(羊皮卷+思考致富+自卑与超越+人性的优点+人性的弱点+致加西亚...   \n23  作家榜经典：人生的智慧（幸福度过一生的为人处世智慧！叔本华幸福哲学课，让你活出新自我！） (...   \n24  我们时代的神经症人格（人人都有病，焦虑的现代人病态心理直播现场！心理学大师卡伦·霍妮成名代表...   \n25  作家榜经典：智慧书(残酷社会的生存法则，马云推崇的智慧奇书！帮您快速洞悉人性和完善自我！) ...   \n26                       自卑与超越+乌合之众+梦的解析+我们内心的冲突（全四册）   \n27  作家榜经典：美丽的约定（《百年孤独》马尔克斯力荐！哭着读完，我又重新相信爱情！法国人至爱的5...   \n28    心理学代表作品集：乌合之众+自卑与超越+性学三论与爱情心理学+梦的解析+荣格自传（套装共5册）   \n29                            动机与人格(连岳推荐!读懂马斯洛需求层次理论)   \n30  作家榜经典：人性的弱点(如何赢得友谊并影响他人，卡耐基手稿还原版，全新无删节插图版) (大星...   \n31  心理学界扛鼎之作第一辑：乌合之众+我们内心的冲突（共2册）（了解个体心理与群体心理的大师级作...   \n32                   大众的反叛(看懂西方反智现象的深层原因，比肩乌合之众的警世之书)   \n33  自卑与超越（个体心理学泰斗阿德勒写给每个人的心理启蒙书，完全忠实于英文原版的经典译本。改变全...   \n34               经典成功心理学《乌合之众+自卑与超越+梦的解析+墨菲定律》（套装共4册）   \n35  人论（易中天推崇的哲学大师卡西尔毕生代表作，提出“人是符号的动物”这一洞见，从另一角度剖析人...   \n36  懂点心理学没坏处（梦的解析+自卑与超越+精神分析引论）超值套装共3册（弗洛伊德经典必读；阿德...   \n37          逻辑课：如何辨别真假对错(连岳推荐!金岳霖的学生,李敖的老师,简明的逻辑思维训练)   \n38                                    马斯洛心理学经典(套装共2册)   \n39                经典成功心理学(乌合之众+自卑与超越+梦的解析+墨菲定律)(套装4册)   \n40  自卑与超越（个体心理学创始人阿德勒的代表作，享誉百年的心理学经典，打破自卑的枷锁，你可以很优秀。）   \n41                                           自卑与超越精装版   \n42  阿德勒的生命重建课【《被讨厌的勇气》作者岸见一郎的创作源泉！现代心理学之父阿德勒写给年轻人的...   \n43                                              自卑与超越   \n44                           自卑与超越【你和理想之间，只差一个自卑的距离。】   \n45                                              自卑与超越   \n46                  大众心理学读本《梦的解析》《乌合之众》《自卑与超越》《常识》全四册   \n47                                              自卑与超越   \n\n                                 作者      评价      价格  \n0                     阿尔弗雷德·阿德勒、 杨蔚  4.5 颗星   ¥0.00  \n1                    阿尔弗雷德·阿德勒、 曹晚红  4.4 颗星   ¥9.50  \n2                 阿尔弗雷德·阿德勒, 吴勇立等等。  4.5 颗星   ¥0.00  \n3                     阿弗雷德•阿德勒、 李青霞  3.9 颗星   ¥0.00  \n4                 (奥)阿尔弗雷德·阿德勒、 马晓娜  4.0 颗星   ¥0.00  \n5   阿尔弗雷德·阿德勒 (Alfred Adler), 吴杰等等。  4.1 颗星   ¥0.00  \n6                         阿尔弗雷德·阿德勒  3.9 颗星   ¥7.71  \n7                    阿尔弗雷德·阿德勒、 马晓娜  4.4 颗星   ¥0.00  \n8                        [法]古斯塔夫·勒庞  4.5 颗星   ¥3.98  \n9                    阿尔弗雷德·阿德勒、 王晋华  4.0 颗星  ¥10.80  \n10            阿尔弗雷德·阿德勒, 古斯塔夫·勒庞等等。    暂无评分  ¥35.82  \n11                        阿尔弗雷德.阿德勒  4.1 颗星   ¥0.00  \n12                   [奥地利]阿尔弗雷德·阿德勒  5.0 颗星   ¥1.99  \n13                    （奥）西格蒙德·弗洛伊德等    暂无评分  ¥60.06  \n14                            布琳·布朗  3.8 颗星  ¥15.99  \n15                【奥】阿尔弗雷德·阿德勒、 王晓真  4.3 颗星   ¥3.99  \n16                          古斯塔夫·勒庞    暂无评分  ¥32.00  \n17                   阿尔弗雷德·阿德勒、 郑世彦    暂无评分  ¥31.20  \n18                           （奥）阿德勒    暂无评分   ¥0.00  \n19                          古斯塔夫·勒庞    暂无评分  ¥15.70  \n20         阿尔弗雷德·阿德勒 (Alfred Adler)  3.9 颗星   ¥0.00  \n21                       （德）帕特里夏·库尔    暂无评分   ¥0.00  \n22                奥格·曼狄诺, 拿破仑·希尔等等。  3.0 颗星  ¥43.24  \n23                   阿图尔·叔本华、 作家榜经典  4.3 颗星   ¥0.00  \n24                       卡伦·霍妮、 郑世彦    暂无评分  ¥24.00  \n25                巴尔塔萨尔·格拉西安、 作家榜经典  3.9 颗星   ¥0.00  \n26                  阿德勒, 古斯塔夫·勒庞等等。    暂无评分  ¥54.14  \n27                 阿兰·傅尼埃, 作家榜经典等等。  3.8 颗星   ¥0.00  \n28            古斯塔夫·勒庞, 西格蒙德·弗洛伊德等等。  5.0 颗星  ¥43.98  \n29                 亚伯拉罕·马斯洛, 李省时等等。  5.0 颗星  ¥35.99  \n30                    戴尔·卡耐基、 作家榜经典  4.5 颗星   ¥0.00  \n31          [法]古斯塔夫·勒庞, [美]卡伦·霍妮等等。    暂无评分  ¥27.25  \n32                    奥尔特加·加塞特、 解晓丽  3.5 颗星  ¥20.99  \n33                          王晋华 黄永华    暂无评分   ¥9.40  \n34                          2018-10    暂无评分  ¥19.10  \n35                      恩斯特·卡西尔、 李荣    暂无评分   ¥0.00  \n36     S.） （奥）弗洛伊德（Freud、 阿尔弗雷德·阿德勒    暂无评分  ¥39.99  \n37                              殷海光    暂无评分  ¥23.99  \n38                         亚伯拉罕·马斯洛    暂无评分  ¥65.99  \n39                              张文成    暂无评分  ¥24.99  \n40                阿尔弗雷德·阿德勒, 刘林波等等。    暂无评分  ¥29.99  \n41                           （奥）阿德勒    暂无评分   ¥3.48  \n42                        阿尔弗雷德•阿德勒  2.0 颗星  ¥22.00  \n43              （奥）阿尔弗雷德·阿德勒著、 龙文广译    暂无评分  ¥19.19  \n44                   阿尔弗雷德•阿德勒、 王晋华    暂无评分  ¥13.88  \n45                              朱吉亮    暂无评分  ¥13.07  \n46      [奥]西格蒙德・弗洛伊德, [法]古斯塔夫·勒庞等等。    暂无评分  ¥26.32  \n47                         [奥地利]阿德勒    暂无评分  ¥13.74  ",
      "text/html": "<div>\n<style scoped>\n    .dataframe tbody tr th:only-of-type {\n        vertical-align: middle;\n    }\n\n    .dataframe tbody tr th {\n        vertical-align: top;\n    }\n\n    .dataframe thead th {\n        text-align: right;\n    }\n</style>\n<table border=\"1\" class=\"dataframe\">\n  <thead>\n    <tr style=\"text-align: right;\">\n      <th></th>\n      <th>书名</th>\n      <th>作者</th>\n      <th>评价</th>\n      <th>价格</th>\n    </tr>\n  </thead>\n  <tbody>\n    <tr>\n      <th>0</th>\n      <td>自卑与超越(完整全译本未删节，读个体心理学经典，你比你想象的更优秀！)(果麦经典)</td>\n      <td>阿尔弗雷德·阿德勒、 杨蔚</td>\n      <td>4.5 颗星</td>\n      <td>¥0.00</td>\n    </tr>\n    <tr>\n      <th>1</th>\n      <td>自卑与超越（完整全译本）: 翻译家曹晚红原版直译,抖音100万点赞 (经典成功学套装：厚黑学...</td>\n      <td>阿尔弗雷德·阿德勒、 曹晚红</td>\n      <td>4.4 颗星</td>\n      <td>¥9.50</td>\n    </tr>\n    <tr>\n      <th>2</th>\n      <td>作家榜经典：自卑与超越（樊登博士力荐！超越自卑就能内心强大！心理学封神之作，2020全新未删...</td>\n      <td>阿尔弗雷德·阿德勒, 吴勇立等等。</td>\n      <td>4.5 颗星</td>\n      <td>¥0.00</td>\n    </tr>\n    <tr>\n      <th>3</th>\n      <td>自卑与超越(经典完整译本)</td>\n      <td>阿弗雷德•阿德勒、 李青霞</td>\n      <td>3.9 颗星</td>\n      <td>¥0.00</td>\n    </tr>\n    <tr>\n      <th>4</th>\n      <td>自卑与超越：你要清楚自己应该怎样过好这一生【个体心理学经典译本。《梦的解析》作者弗洛伊德昔日...</td>\n      <td>(奥)阿尔弗雷德·阿德勒、 马晓娜</td>\n      <td>4.0 颗星</td>\n      <td>¥0.00</td>\n    </tr>\n    <tr>\n      <th>5</th>\n      <td>自卑与超越（西方心理学大师经典译丛）（个体心理学创始人带你找寻生命的意义，告诉你天才的真谛）</td>\n      <td>阿尔弗雷德·阿德勒 (Alfred Adler), 吴杰等等。</td>\n      <td>4.1 颗星</td>\n      <td>¥0.00</td>\n    </tr>\n    <tr>\n      <th>6</th>\n      <td>自卑与超越</td>\n      <td>阿尔弗雷德·阿德勒</td>\n      <td>3.9 颗星</td>\n      <td>¥7.71</td>\n    </tr>\n    <tr>\n      <th>7</th>\n      <td>自卑与超越【慢读系列，英文直译完整版！相同译本平装版年销量破100000册，精装套封修订版全...</td>\n      <td>阿尔弗雷德·阿德勒、 马晓娜</td>\n      <td>4.4 颗星</td>\n      <td>¥0.00</td>\n    </tr>\n    <tr>\n      <th>8</th>\n      <td>乌合之众: 社会心理学领域扛鼎之作，一部讲透政治、经济、管理的心理学巨著，入选改变世界的20...</td>\n      <td>[法]古斯塔夫·勒庞</td>\n      <td>4.5 颗星</td>\n      <td>¥3.98</td>\n    </tr>\n    <tr>\n      <th>9</th>\n      <td>自卑与超越【牛津大学出版社未删减典藏版】</td>\n      <td>阿尔弗雷德·阿德勒、 王晋华</td>\n      <td>4.0 颗星</td>\n      <td>¥10.80</td>\n    </tr>\n    <tr>\n      <th>10</th>\n      <td>自卑与超越+乌合之众+我们内心的冲突（全三册）</td>\n      <td>阿尔弗雷德·阿德勒, 古斯塔夫·勒庞等等。</td>\n      <td>暂无评分</td>\n      <td>¥35.82</td>\n    </tr>\n    <tr>\n      <th>11</th>\n      <td>自卑与超越</td>\n      <td>阿尔弗雷德.阿德勒</td>\n      <td>4.1 颗星</td>\n      <td>¥0.00</td>\n    </tr>\n    <tr>\n      <th>12</th>\n      <td>儿童教育心理学（阿德勒写给孩子的“自卑与超越”，全球公认的正向教养法经典，50万册纪念版，全...</td>\n      <td>[奥地利]阿尔弗雷德·阿德勒</td>\n      <td>5.0 颗星</td>\n      <td>¥1.99</td>\n    </tr>\n    <tr>\n      <th>13</th>\n      <td>乌合之众+自卑与超越+梦的解析+墨菲定律（全4册,你一定要读的四大心理学巨著）</td>\n      <td>（奥）西格蒙德·弗洛伊德等</td>\n      <td>暂无评分</td>\n      <td>¥60.06</td>\n    </tr>\n    <tr>\n      <th>14</th>\n      <td>超越自卑【豆瓣评分8.3分！TED播放量破10000000演讲者布琳·布朗现象级著作！知名脱...</td>\n      <td>布琳·布朗</td>\n      <td>3.8 颗星</td>\n      <td>¥15.99</td>\n    </tr>\n    <tr>\n      <th>15</th>\n      <td>自卑与超越【个体心理学之父阿德勒代表作完整全译本，畅销全球80余年，入选20世纪改变美国和世...</td>\n      <td>【奥】阿尔弗雷德·阿德勒、 王晓真</td>\n      <td>4.3 颗星</td>\n      <td>¥3.99</td>\n    </tr>\n    <tr>\n      <th>16</th>\n      <td>心理学经典必读系列：乌合之众+梦的解析+自卑与超越+性学三论+人性的弱点</td>\n      <td>古斯塔夫·勒庞</td>\n      <td>暂无评分</td>\n      <td>¥32.00</td>\n    </tr>\n    <tr>\n      <th>17</th>\n      <td>性格心理学（只有认识自己，才能超越自己，一本书读懂阿德勒，进阶版《自卑与超越》！大量心理治疗...</td>\n      <td>阿尔弗雷德·阿德勒、 郑世彦</td>\n      <td>暂无评分</td>\n      <td>¥31.20</td>\n    </tr>\n    <tr>\n      <th>18</th>\n      <td>自卑与超越2（无删减完整译本）阿德勒《自卑与超越》姊妹篇，自我成长实操升级版</td>\n      <td>（奥）阿德勒</td>\n      <td>暂无评分</td>\n      <td>¥0.00</td>\n    </tr>\n    <tr>\n      <th>19</th>\n      <td>乌合之众 自卑与超越 （套装共2册）: 了解个体心理与群体心理的大师级作品，讲透政治、经济与...</td>\n      <td>古斯塔夫·勒庞</td>\n      <td>暂无评分</td>\n      <td>¥15.70</td>\n    </tr>\n    <tr>\n      <th>20</th>\n      <td>自卑与超越（著名心理学家马斯洛、墨菲、舒尔茨等诚挚推荐,豆瓣评分7.3）</td>\n      <td>阿尔弗雷德·阿德勒 (Alfred Adler)</td>\n      <td>3.9 颗星</td>\n      <td>¥0.00</td>\n    </tr>\n    <tr>\n      <th>21</th>\n      <td>沐浴之歌：从今天起，做个快乐的人（献给那些与自我抗争、在逆境中挺进的人，勇敢越过生命中的艰难...</td>\n      <td>（德）帕特里夏·库尔</td>\n      <td>暂无评分</td>\n      <td>¥0.00</td>\n    </tr>\n    <tr>\n      <th>22</th>\n      <td>经典名著读本 (套装全8册)(羊皮卷+思考致富+自卑与超越+人性的优点+人性的弱点+致加西亚...</td>\n      <td>奥格·曼狄诺, 拿破仑·希尔等等。</td>\n      <td>3.0 颗星</td>\n      <td>¥43.24</td>\n    </tr>\n    <tr>\n      <th>23</th>\n      <td>作家榜经典：人生的智慧（幸福度过一生的为人处世智慧！叔本华幸福哲学课，让你活出新自我！） (...</td>\n      <td>阿图尔·叔本华、 作家榜经典</td>\n      <td>4.3 颗星</td>\n      <td>¥0.00</td>\n    </tr>\n    <tr>\n      <th>24</th>\n      <td>我们时代的神经症人格（人人都有病，焦虑的现代人病态心理直播现场！心理学大师卡伦·霍妮成名代表...</td>\n      <td>卡伦·霍妮、 郑世彦</td>\n      <td>暂无评分</td>\n      <td>¥24.00</td>\n    </tr>\n    <tr>\n      <th>25</th>\n      <td>作家榜经典：智慧书(残酷社会的生存法则，马云推崇的智慧奇书！帮您快速洞悉人性和完善自我！) ...</td>\n      <td>巴尔塔萨尔·格拉西安、 作家榜经典</td>\n      <td>3.9 颗星</td>\n      <td>¥0.00</td>\n    </tr>\n    <tr>\n      <th>26</th>\n      <td>自卑与超越+乌合之众+梦的解析+我们内心的冲突（全四册）</td>\n      <td>阿德勒, 古斯塔夫·勒庞等等。</td>\n      <td>暂无评分</td>\n      <td>¥54.14</td>\n    </tr>\n    <tr>\n      <th>27</th>\n      <td>作家榜经典：美丽的约定（《百年孤独》马尔克斯力荐！哭着读完，我又重新相信爱情！法国人至爱的5...</td>\n      <td>阿兰·傅尼埃, 作家榜经典等等。</td>\n      <td>3.8 颗星</td>\n      <td>¥0.00</td>\n    </tr>\n    <tr>\n      <th>28</th>\n      <td>心理学代表作品集：乌合之众+自卑与超越+性学三论与爱情心理学+梦的解析+荣格自传（套装共5册）</td>\n      <td>古斯塔夫·勒庞, 西格蒙德·弗洛伊德等等。</td>\n      <td>5.0 颗星</td>\n      <td>¥43.98</td>\n    </tr>\n    <tr>\n      <th>29</th>\n      <td>动机与人格(连岳推荐!读懂马斯洛需求层次理论)</td>\n      <td>亚伯拉罕·马斯洛, 李省时等等。</td>\n      <td>5.0 颗星</td>\n      <td>¥35.99</td>\n    </tr>\n    <tr>\n      <th>30</th>\n      <td>作家榜经典：人性的弱点(如何赢得友谊并影响他人，卡耐基手稿还原版，全新无删节插图版) (大星...</td>\n      <td>戴尔·卡耐基、 作家榜经典</td>\n      <td>4.5 颗星</td>\n      <td>¥0.00</td>\n    </tr>\n    <tr>\n      <th>31</th>\n      <td>心理学界扛鼎之作第一辑：乌合之众+我们内心的冲突（共2册）（了解个体心理与群体心理的大师级作...</td>\n      <td>[法]古斯塔夫·勒庞, [美]卡伦·霍妮等等。</td>\n      <td>暂无评分</td>\n      <td>¥27.25</td>\n    </tr>\n    <tr>\n      <th>32</th>\n      <td>大众的反叛(看懂西方反智现象的深层原因，比肩乌合之众的警世之书)</td>\n      <td>奥尔特加·加塞特、 解晓丽</td>\n      <td>3.5 颗星</td>\n      <td>¥20.99</td>\n    </tr>\n    <tr>\n      <th>33</th>\n      <td>自卑与超越（个体心理学泰斗阿德勒写给每个人的心理启蒙书，完全忠实于英文原版的经典译本。改变全...</td>\n      <td>王晋华 黄永华</td>\n      <td>暂无评分</td>\n      <td>¥9.40</td>\n    </tr>\n    <tr>\n      <th>34</th>\n      <td>经典成功心理学《乌合之众+自卑与超越+梦的解析+墨菲定律》（套装共4册）</td>\n      <td>2018-10</td>\n      <td>暂无评分</td>\n      <td>¥19.10</td>\n    </tr>\n    <tr>\n      <th>35</th>\n      <td>人论（易中天推崇的哲学大师卡西尔毕生代表作，提出“人是符号的动物”这一洞见，从另一角度剖析人...</td>\n      <td>恩斯特·卡西尔、 李荣</td>\n      <td>暂无评分</td>\n      <td>¥0.00</td>\n    </tr>\n    <tr>\n      <th>36</th>\n      <td>懂点心理学没坏处（梦的解析+自卑与超越+精神分析引论）超值套装共3册（弗洛伊德经典必读；阿德...</td>\n      <td>S.） （奥）弗洛伊德（Freud、 阿尔弗雷德·阿德勒</td>\n      <td>暂无评分</td>\n      <td>¥39.99</td>\n    </tr>\n    <tr>\n      <th>37</th>\n      <td>逻辑课：如何辨别真假对错(连岳推荐!金岳霖的学生,李敖的老师,简明的逻辑思维训练)</td>\n      <td>殷海光</td>\n      <td>暂无评分</td>\n      <td>¥23.99</td>\n    </tr>\n    <tr>\n      <th>38</th>\n      <td>马斯洛心理学经典(套装共2册)</td>\n      <td>亚伯拉罕·马斯洛</td>\n      <td>暂无评分</td>\n      <td>¥65.99</td>\n    </tr>\n    <tr>\n      <th>39</th>\n      <td>经典成功心理学(乌合之众+自卑与超越+梦的解析+墨菲定律)(套装4册)</td>\n      <td>张文成</td>\n      <td>暂无评分</td>\n      <td>¥24.99</td>\n    </tr>\n    <tr>\n      <th>40</th>\n      <td>自卑与超越（个体心理学创始人阿德勒的代表作，享誉百年的心理学经典，打破自卑的枷锁，你可以很优秀。）</td>\n      <td>阿尔弗雷德·阿德勒, 刘林波等等。</td>\n      <td>暂无评分</td>\n      <td>¥29.99</td>\n    </tr>\n    <tr>\n      <th>41</th>\n      <td>自卑与超越精装版</td>\n      <td>（奥）阿德勒</td>\n      <td>暂无评分</td>\n      <td>¥3.48</td>\n    </tr>\n    <tr>\n      <th>42</th>\n      <td>阿德勒的生命重建课【《被讨厌的勇气》作者岸见一郎的创作源泉！现代心理学之父阿德勒写给年轻人的...</td>\n      <td>阿尔弗雷德•阿德勒</td>\n      <td>2.0 颗星</td>\n      <td>¥22.00</td>\n    </tr>\n    <tr>\n      <th>43</th>\n      <td>自卑与超越</td>\n      <td>（奥）阿尔弗雷德·阿德勒著、 龙文广译</td>\n      <td>暂无评分</td>\n      <td>¥19.19</td>\n    </tr>\n    <tr>\n      <th>44</th>\n      <td>自卑与超越【你和理想之间，只差一个自卑的距离。】</td>\n      <td>阿尔弗雷德•阿德勒、 王晋华</td>\n      <td>暂无评分</td>\n      <td>¥13.88</td>\n    </tr>\n    <tr>\n      <th>45</th>\n      <td>自卑与超越</td>\n      <td>朱吉亮</td>\n      <td>暂无评分</td>\n      <td>¥13.07</td>\n    </tr>\n    <tr>\n      <th>46</th>\n      <td>大众心理学读本《梦的解析》《乌合之众》《自卑与超越》《常识》全四册</td>\n      <td>[奥]西格蒙德・弗洛伊德, [法]古斯塔夫·勒庞等等。</td>\n      <td>暂无评分</td>\n      <td>¥26.32</td>\n    </tr>\n    <tr>\n      <th>47</th>\n      <td>自卑与超越</td>\n      <td>[奥地利]阿德勒</td>\n      <td>暂无评分</td>\n      <td>¥13.74</td>\n    </tr>\n  </tbody>\n</table>\n</div>"
     },
     "execution_count": 18,
     "metadata": {},
     "output_type": "execute_result"
    }
   ],
   "source": [
    "pd.DataFrame({'书名':book_name,'作者':author,'评价':rank,'价格':price})"
   ],
   "metadata": {
    "collapsed": false,
    "pycharm": {
     "name": "#%%\n"
    }
   }
  }
 ],
 "metadata": {
  "kernelspec": {
   "display_name": "Python 3",
   "language": "python",
   "name": "python3"
  },
  "language_info": {
   "codemirror_mode": {
    "name": "ipython",
    "version": 2
   },
   "file_extension": ".py",
   "mimetype": "text/x-python",
   "name": "python",
   "nbconvert_exporter": "python",
   "pygments_lexer": "ipython2",
   "version": "2.7.6"
  }
 },
 "nbformat": 4,
 "nbformat_minor": 0
}